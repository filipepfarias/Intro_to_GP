{
 "cells": [
  {
   "cell_type": "code",
   "execution_count": 1,
   "metadata": {},
   "outputs": [],
   "source": [
    "import numpy as np\n",
    "import pandas as pd\n",
    "import matplotlib.pyplot as plt\n",
    "\n",
    "%matplotlib inline"
   ]
  },
  {
   "cell_type": "markdown",
   "metadata": {},
   "source": [
    "#### Generating data"
   ]
  },
  {
   "cell_type": "code",
   "execution_count": 23,
   "metadata": {},
   "outputs": [],
   "source": [
    "sample_size = int(1e2);\n",
    "dimension = (sample_size,1);\n",
    "\n",
    "\n",
    "x = np.reshape(np.linspace(0,1, num=sample_size),dimension)\n",
    "y = np.reshape(np.sin(2*np.pi*x),dimension)"
   ]
  },
  {
   "cell_type": "code",
   "execution_count": 24,
   "metadata": {},
   "outputs": [],
   "source": [
    "#Observations\n",
    "\n",
    "N_obs = 10\n",
    "\n",
    "#data = np.zeros((10,int(sample_size)))\n",
    "\n",
    "t = np.sin(2*np.pi*x) + np.reshape(np.random.normal(size=sample_size,scale=0.35),dimension);\n",
    "\n",
    "#for i in range(N_obs):\n",
    "#    np.random.seed(i**2)\n",
    "#    t[i] = np.sin(2*np.pi*x) + np.random.normal(size=sample_size,scale=0.35);\n",
    "#    break\n",
    "\n",
    "#data = np.sin(2*np.pi*x) + (np.e**x)*1.7 + np.random.normal(size=sample_size,scale=0.35);"
   ]
  },
  {
   "cell_type": "code",
   "execution_count": 25,
   "metadata": {},
   "outputs": [
    {
     "data": {
      "text/plain": [
       "(100, 1)"
      ]
     },
     "execution_count": 25,
     "metadata": {},
     "output_type": "execute_result"
    }
   ],
   "source": [
    "x.shape"
   ]
  },
  {
   "cell_type": "code",
   "execution_count": 26,
   "metadata": {},
   "outputs": [
    {
     "data": {
      "text/plain": [
       "(100, 1)"
      ]
     },
     "execution_count": 26,
     "metadata": {},
     "output_type": "execute_result"
    }
   ],
   "source": [
    "t.shape"
   ]
  },
  {
   "cell_type": "code",
   "execution_count": 28,
   "metadata": {},
   "outputs": [
    {
     "data": {
      "image/png": "[encoded data removed]",
      "text/plain": [
       "<Figure size 720x576 with 1 Axes>"
      ]
     },
     "metadata": {},
     "output_type": "display_data"
    }
   ],
   "source": [
    "plt.figure(figsize=(10,8))\n",
    "for i in range(1):\n",
    "    legend = \"Observation \"+str(i+1)\n",
    "    plt.plot(x,t,'o',markeredgewidth=0.75,label=legend)\n",
    "    #plt.plot(x[0],t[i],'o',markerfacecolor='none',markeredgewidth=0.75,label=legend)\n",
    "    plt.legend()"
   ]
  },
  {
   "cell_type": "markdown",
   "metadata": {},
   "source": [
    "#### Defining the function"
   ]
  },
  {
   "cell_type": "markdown",
   "metadata": {},
   "source": [
    "Now, we'll see the problem of $ y(\\boldsymbol{x},\\boldsymbol{w}) = w_0 + w_1 x^1 + ... + w_D x^D $ and make some changes. Let's choose some arbitrary function class $ \\phi(x) $ and then, our previous relation becomes $ y(\\boldsymbol{x},\\boldsymbol{\\phi}) = w_0 + w_1 \\phi_1 + ... + w_D \\phi_D $, such that $ \\phi_i $ are apparently linearly independent. So, in this example we'll choose the function $$ \\phi_i(x| \\mu_i, s) = \\exp \\left( -\\frac{(x-\\mu_i)^2}{s^2} \\right) $$"
   ]
  },
  {
   "cell_type": "markdown",
   "metadata": {},
   "source": [
    "Defining the model matrix"
   ]
  },
  {
   "cell_type": "markdown",
   "metadata": {},
   "source": [
    "<font color=\"red\">Missing to define the covariance matrix $\\sum ^{-1}$ and replace it in $ s $</font>"
   ]
  },
  {
   "cell_type": "markdown",
   "metadata": {},
   "source": [
    "Number of observations"
   ]
  },
  {
   "cell_type": "code",
   "execution_count": 13,
   "metadata": {},
   "outputs": [],
   "source": [
    "M = 10"
   ]
  },
  {
   "cell_type": "code",
   "execution_count": 14,
   "metadata": {},
   "outputs": [],
   "source": [
    "def f_phi(x,mu,s=1):\n",
    "    return np.e**(-(x-mu)**2 / s**2)"
   ]
  },
  {
   "cell_type": "markdown",
   "metadata": {},
   "source": [
    "Number of basis functions"
   ]
  },
  {
   "cell_type": "code",
   "execution_count": 15,
   "metadata": {},
   "outputs": [],
   "source": [
    "N = 3\n",
    "\n",
    "phi = np.zeros((M,N))"
   ]
  },
  {
   "cell_type": "code",
   "execution_count": 29,
   "metadata": {},
   "outputs": [
    {
     "data": {
      "text/plain": [
       "33.5016835016835"
      ]
     },
     "execution_count": 29,
     "metadata": {},
     "output_type": "execute_result"
    }
   ],
   "source": [
    "np.linalg.det(x.T@x)"
   ]
  },
  {
   "cell_type": "code",
   "execution_count": 30,
   "metadata": {},
   "outputs": [],
   "source": [
    "w = ((np.linalg.inv(x.T@x))@x.T)@t"
   ]
  },
  {
   "cell_type": "code",
   "execution_count": null,
   "metadata": {},
   "outputs": [],
   "source": []
  },
  {
   "cell_type": "code",
   "execution_count": null,
   "metadata": {
    "scrolled": true
   },
   "outputs": [],
   "source": [
    "def linear_regressor(x_data, y_data, M, pseudo=True):\n",
    "    M = M+1\n",
    "    \n",
    "    xsum = np.zeros((1,M*2))\n",
    "\n",
    "    for i in range(M*2):\n",
    "        xsum[0][i] = sum(f_phi(x_data,i/M))\n",
    "    \n",
    "    S = np.zeros((M,M))\n",
    "    Y = np.zeros((1,M))\n",
    "\n",
    "    for i in range(M):\n",
    "        for j in range(M):\n",
    "            S[i][j] = xsum[0][i+j]\n",
    "        Y[0][i] = sum(y_data*(f_phi(x_data,i/M)))\n",
    "    \n",
    "    # S * W = Y\n",
    "\n",
    "    if pseudo == False:\n",
    "        W = np.linalg.solve(S,Y.T)\n",
    "        W = W.T\n",
    "    else:\n",
    "        S_aux = np.dot(S,S.T) # S * S.T\n",
    "        S_aux = np.linalg.inv(S_aux)\n",
    "        S_inv = np.dot(S_aux,S.T) # S_aux * S.T\n",
    "        W = np.dot(Y,S_inv) # Y * S_inv\n",
    "    \n",
    "    y_pred = 0\n",
    "    \n",
    "    x = np.linspace(x_data[0],x_data[len(x_data)-1],50)\n",
    "\n",
    "    for i in range(M):\n",
    "        y_pred = W[0][i]*(f_phi(x_data,i/M)) + y_pred\n",
    "    \n",
    "    return y_pred\n",
    "\n",
    "y_pred_test = linear_regressor(x,t[0],50,False)"
   ]
  },
  {
   "cell_type": "code",
   "execution_count": null,
   "metadata": {},
   "outputs": [],
   "source": [
    "plt.plot(x,y_pred_test)"
   ]
  },
  {
   "cell_type": "code",
   "execution_count": null,
   "metadata": {},
   "outputs": [],
   "source": []
  }
 ],
 "metadata": {
  "kernelspec": {
   "display_name": "Python 3",
   "language": "python",
   "name": "python3"
  },
  "language_info": {
   "codemirror_mode": {
    "name": "ipython",
    "version": 3
   },
   "file_extension": ".py",
   "mimetype": "text/x-python",
   "name": "python",
   "nbconvert_exporter": "python",
   "pygments_lexer": "ipython3",
   "version": "3.6.5"
  }
 },
 "nbformat": 4,
 "nbformat_minor": 2
}
