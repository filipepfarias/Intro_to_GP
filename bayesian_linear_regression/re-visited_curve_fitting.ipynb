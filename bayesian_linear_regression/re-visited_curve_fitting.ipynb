{
 "cells": [
  {
   "cell_type": "code",
   "execution_count": 2,
   "metadata": {},
   "outputs": [],
   "source": [
    "import numpy as np\n",
    "import pandas as pd\n",
    "import matplotlib.pyplot as plt\n",
    "\n",
    "%matplotlib inline"
   ]
  },
  {
   "cell_type": "markdown",
   "metadata": {},
   "source": [
    "#### Generating data"
   ]
  },
  {
   "cell_type": "code",
   "execution_count": 3,
   "metadata": {},
   "outputs": [],
   "source": [
    "sample_size = int(1e2);\n",
    "dimension = (sample_size,1);\n",
    "\n",
    "\n",
    "x = np.reshape(np.linspace(0,1, num=sample_size),dimension)\n",
    "y = np.reshape(np.sin(2*np.pi*x),dimension)"
   ]
  },
  {
   "cell_type": "code",
   "execution_count": 4,
   "metadata": {},
   "outputs": [],
   "source": [
    "#Observations\n",
    "\n",
    "N_obs = 10\n",
    "\n",
    "#data = np.zeros((10,int(sample_size)))\n",
    "\n",
    "t = np.sin(2*np.pi*x) + np.reshape(np.random.normal(size=sample_size,scale=0.1),dimension);\n",
    "\n",
    "#for i in range(N_obs):\n",
    "#    np.random.seed(i**2)\n",
    "#    t[i] = np.sin(2*np.pi*x) + np.random.normal(size=sample_size,scale=0.35);\n",
    "#    break\n",
    "\n",
    "#data = np.sin(2*np.pi*x) + (np.e**x)*1.7 + np.random.normal(size=sample_size,scale=0.35);"
   ]
  },
  {
   "cell_type": "code",
   "execution_count": 5,
   "metadata": {},
   "outputs": [
    {
     "data": {
      "text/plain": [
       "(100, 1)"
      ]
     },
     "execution_count": 5,
     "metadata": {},
     "output_type": "execute_result"
    }
   ],
   "source": [
    "x.shape"
   ]
  },
  {
   "cell_type": "code",
   "execution_count": 6,
   "metadata": {},
   "outputs": [
    {
     "data": {
      "text/plain": [
       "(100, 1)"
      ]
     },
     "execution_count": 6,
     "metadata": {},
     "output_type": "execute_result"
    }
   ],
   "source": [
    "t.shape"
   ]
  },
  {
   "cell_type": "code",
   "execution_count": 7,
   "metadata": {},
   "outputs": [
    {
     "data": {
      "image/png": "[encoded data removed]",
      "text/plain": [
       "<Figure size 1080x720 with 1 Axes>"
      ]
     },
     "metadata": {},
     "output_type": "display_data"
    }
   ],
   "source": [
    "plt.figure(figsize=(15,10))\n",
    "for i in range(1):\n",
    "    legend = \"Observation \"+str(i+1)\n",
    "    plt.plot(x,t,'o',markeredgewidth=0.75,label=legend)\n",
    "    #plt.plot(x[0],t[i],'o',markerfacecolor='none',markeredgewidth=0.75,label=legend)\n",
    "    plt.legend()"
   ]
  },
  {
   "cell_type": "markdown",
   "metadata": {},
   "source": [
    "#### Defining the function"
   ]
  },
  {
   "cell_type": "markdown",
   "metadata": {},
   "source": [
    "Now, we'll see the problem of $ y(\\boldsymbol{x},\\boldsymbol{w}) = w_0 + w_1 x^1 + ... + w_D x^D $ and make some changes. Let's choose some arbitrary function class $ \\phi(x) $ and then, our previous relation becomes $ y(\\boldsymbol{x},\\boldsymbol{\\phi}) = w_0 + w_1 \\phi_1 + ... + w_D \\phi_D $, such that $ \\phi_i $ are apparently linearly independent. So, in this example we'll choose the function $$ \\phi_i(x| \\mu_i, s) = \\exp \\left( -\\frac{(x-\\mu_i)^2}{s^2} \\right) $$"
   ]
  },
  {
   "cell_type": "code",
   "execution_count": 8,
   "metadata": {},
   "outputs": [],
   "source": [
    "def f_phi(x,mu,s=1):\n",
    "    return np.e**(-(x-mu)**2 / s**2)"
   ]
  },
  {
   "cell_type": "markdown",
   "metadata": {},
   "source": [
    "Defining the model matrix"
   ]
  },
  {
   "cell_type": "code",
   "execution_count": 9,
   "metadata": {},
   "outputs": [],
   "source": [
    "M = 10"
   ]
  },
  {
   "cell_type": "code",
   "execution_count": 10,
   "metadata": {},
   "outputs": [],
   "source": [
    "phi = np.zeros((len(x),M))\n",
    "\n",
    "for i in range(len(x)):\n",
    "    for j in range(M):\n",
    "        phi[i][j] = f_phi(x[i],(1/M*j))"
   ]
  },
  {
   "cell_type": "code",
   "execution_count": 11,
   "metadata": {},
   "outputs": [
    {
     "data": {
      "text/plain": [
       "(100, 10)"
      ]
     },
     "execution_count": 11,
     "metadata": {},
     "output_type": "execute_result"
    }
   ],
   "source": [
    "phi.shape"
   ]
  },
  {
   "cell_type": "code",
   "execution_count": 12,
   "metadata": {},
   "outputs": [
    {
     "data": {
      "text/plain": [
       "(10, 100)"
      ]
     },
     "execution_count": 12,
     "metadata": {},
     "output_type": "execute_result"
    }
   ],
   "source": [
    "W = ((np.linalg.inv(phi.T@phi))@phi.T)\n",
    "W.shape"
   ]
  },
  {
   "cell_type": "code",
   "execution_count": 18,
   "metadata": {},
   "outputs": [
    {
     "data": {
      "text/plain": [
       "(100, 1)"
      ]
     },
     "execution_count": 18,
     "metadata": {},
     "output_type": "execute_result"
    }
   ],
   "source": [
    "t.shape"
   ]
  },
  {
   "cell_type": "code",
   "execution_count": 13,
   "metadata": {},
   "outputs": [],
   "source": [
    "W = ((np.linalg.inv(phi.T@phi))@phi.T)@t"
   ]
  },
  {
   "cell_type": "code",
   "execution_count": 14,
   "metadata": {},
   "outputs": [
    {
     "data": {
      "text/plain": [
       "(10, 1)"
      ]
     },
     "execution_count": 14,
     "metadata": {},
     "output_type": "execute_result"
    }
   ],
   "source": [
    "W.shape"
   ]
  },
  {
   "cell_type": "code",
   "execution_count": 15,
   "metadata": {},
   "outputs": [],
   "source": [
    "y_pred = np.zeros((len(x),1))\n",
    "\n",
    "for i in range(len(x)):\n",
    "    y_pred[i][0] = sum([W[j][0]*f_phi(x[i],(1/M*j)) for j in range(M)])"
   ]
  },
  {
   "cell_type": "code",
   "execution_count": 16,
   "metadata": {},
   "outputs": [
    {
     "data": {
      "text/plain": [
       "(100, 1)"
      ]
     },
     "execution_count": 16,
     "metadata": {},
     "output_type": "execute_result"
    }
   ],
   "source": [
    "y_pred.shape"
   ]
  },
  {
   "cell_type": "code",
   "execution_count": 17,
   "metadata": {},
   "outputs": [
    {
     "data": {
      "image/png": "[encoded data removed]",
      "text/plain": [
       "<Figure size 1080x720 with 1 Axes>"
      ]
     },
     "metadata": {},
     "output_type": "display_data"
    }
   ],
   "source": [
    "plt.figure(figsize=(15,10));\n",
    "plt.plot(x,y_pred,label='Predict');\n",
    "plt.plot(x,t,'o',label='Data');\n",
    "plt.plot(x,y,'r--',label='Deterministic');\n",
    "plt.legend();"
   ]
  },
  {
   "cell_type": "markdown",
   "metadata": {},
   "source": [
    "#### Implementing"
   ]
  },
  {
   "cell_type": "markdown",
   "metadata": {},
   "source": [
    "def linear_basis_model(x_data, y_data, func, M = 3):\n",
    "    \n",
    "    if (any(item%i == 1 for item in x_data.shape)):\n",
    "        x_data = np.reshape((len(x_data),1))\n",
    "        \n",
    "    if (any(item%i == 1 for item in y_data.shape)):\n",
    "        y_data = np.reshape((len(y_data),1))\n",
    "    \n",
    "    if (len(x_data) != len(y_data)):\n",
    "        return print(\"Different X, Y lengths!\")\n",
    "    else:\n",
    "        \n",
    "        import numpy as np\n",
    "        \n",
    "        def f_phi(x,mu,s=1):\n",
    "            return np.e**(-(x-mu)**2 / s**2)\n",
    "        \n",
    "        def poly(x,i):\n",
    "            return x**i\n",
    "        \n",
    "        #func = {'sin': np.sin, 'gaussian': f_phi, 'poly': poly}\n",
    "        \n",
    "        if func is 'sin':\n",
    "            parameters = np.zeros((1,M))\n",
    "            parameters = 1\n",
    "            def f(data,parameters):\n",
    "                return np.sin(data)\n",
    "            \n",
    "        elif func is 'gaussian':\n",
    "            parameters = np.zeros((1,M))\n",
    "            parameters = [i/M for i in range(M)]\n",
    "            def f(data,parameters):\n",
    "                return f_phi(data,parameters)\n",
    "        \n",
    "        else func is 'poly':\n",
    "            parameters = np.zeros((1,M))\n",
    "            parameters = [i in range(M)]\n",
    "            def f(data,parameters):\n",
    "                return x**parameters\n",
    "        \n",
    "        phi = np.zeros((len(x),M))\n",
    "\n",
    "        for i in range(len(x)):\n",
    "            for j in range(M):\n",
    "                phi[i][j] = f(x[i],parameters[j])\n",
    "        \n",
    "        W = ((np.linalg.inv(phi.T@phi))@phi.T)@y_data\n",
    "        \n",
    "        y_pred = np.zeros((len(x),1))\n",
    "\n",
    "        for i in range(len(x)):\n",
    "            y_pred[i][0] = sum([W[j][0]*function(x[i],parameters[j]) for j in range(M)])"
   ]
  },
  {
   "cell_type": "code",
   "execution_count": null,
   "metadata": {},
   "outputs": [],
   "source": []
  }
 ],
 "metadata": {
  "kernelspec": {
   "display_name": "Python 3",
   "language": "python",
   "name": "python3"
  },
  "language_info": {
   "codemirror_mode": {
    "name": "ipython",
    "version": 3
   },
   "file_extension": ".py",
   "mimetype": "text/x-python",
   "name": "python",
   "nbconvert_exporter": "python",
   "pygments_lexer": "ipython3",
   "version": "3.6.5"
  }
 },
 "nbformat": 4,
 "nbformat_minor": 2
}
